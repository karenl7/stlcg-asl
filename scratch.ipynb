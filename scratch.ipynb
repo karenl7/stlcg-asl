{
 "cells": [
  {
   "cell_type": "code",
   "execution_count": 1,
   "metadata": {},
   "outputs": [],
   "source": [
    "%matplotlib inline\n",
    "import sys\n",
    "sys.path.insert(0, 'src')"
   ]
  },
  {
   "cell_type": "code",
   "execution_count": 2,
   "metadata": {},
   "outputs": [],
   "source": [
    "# import stlcg\n",
    "import stlcg_agm as stlcg\n",
    "import stlviz as viz\n",
    "from stlcg import Expression\n",
    "from utils import print_learning_progress"
   ]
  },
  {
   "cell_type": "code",
   "execution_count": 3,
   "metadata": {},
   "outputs": [],
   "source": [
    "import torch\n",
    "import numpy as np\n",
    "import matplotlib.pyplot as plt\n",
    "import importlib"
   ]
  },
  {
   "cell_type": "code",
   "execution_count": 4,
   "metadata": {},
   "outputs": [],
   "source": [
    "t = t = np.arange(-3, 3, 0.2, dtype=np.float32)\n",
    "x_np = 0.5 * np.exp(-t**2).reshape([1, t.shape[0], 1])\n",
    "w_np = (0.4*np.exp(-(t + 0.5)**2) + 0.2*np.exp(-(t - 3)**2)).reshape([1, t.shape[0], 1])\n",
    "\n",
    "x = torch.tensor(x_np, requires_grad=False)\n",
    "w = torch.tensor(w_np, requires_grad=False)\n",
    "c = torch.tensor(1.0, dtype=torch.float, requires_grad=True)\n",
    "d = torch.tensor(0.9, dtype=torch.float, requires_grad=True)"
   ]
  },
  {
   "cell_type": "code",
   "execution_count": 5,
   "metadata": {},
   "outputs": [],
   "source": [
    "h = torch.tensor([1, 2, 3, 4, 5]).float().unsqueeze(0).unsqueeze(0).requires_grad_(True)\n",
    "xx = torch.tensor([1.1, 0.9, 0.95, 0.6, 1.0]).float().unsqueeze(0).unsqueeze(-1)\n",
    "xx = torch.cat([xx,-xx], dim=-1).requires_grad_(True)\n",
    "c = torch.ones_like(h)"
   ]
  },
  {
   "cell_type": "code",
   "execution_count": 6,
   "metadata": {},
   "outputs": [],
   "source": [
    "m = stlcg.Minish()\n",
    "alw = stlcg.Always(subformula=stlcg.Identity())"
   ]
  },
  {
   "cell_type": "code",
   "execution_count": 7,
   "metadata": {},
   "outputs": [
    {
     "data": {
      "text/plain": [
       "tensor([[[ 1.1000, -1.1000],\n",
       "         [ 0.9000, -0.9000],\n",
       "         [ 0.9500, -0.9500],\n",
       "         [ 0.6000, -0.6000],\n",
       "         [ 1.0000, -1.0000]]], requires_grad=True)"
      ]
     },
     "execution_count": 7,
     "metadata": {},
     "output_type": "execute_result"
    }
   ],
   "source": [
    "xx"
   ]
  },
  {
   "cell_type": "code",
   "execution_count": 8,
   "metadata": {},
   "outputs": [
    {
     "data": {
      "text/plain": [
       "tensor([[[ 1.1000, -1.1000],\n",
       "         [ 0.9000, -1.1000],\n",
       "         [ 0.9000, -1.1000],\n",
       "         [ 0.6000, -1.1000],\n",
       "         [ 0.6000, -1.1000]]], grad_fn=<CatBackward>)"
      ]
     },
     "execution_count": 8,
     "metadata": {},
     "output_type": "execute_result"
    }
   ],
   "source": [
    "alw(xx)"
   ]
  },
  {
   "cell_type": "code",
   "execution_count": 9,
   "metadata": {},
   "outputs": [
    {
     "data": {
      "text/plain": [
       "tensor([[[ 0.6000, -1.1000]]], grad_fn=<AddBackward0>)"
      ]
     },
     "execution_count": 9,
     "metadata": {},
     "output_type": "execute_result"
    }
   ],
   "source": [
    "m.distributed_true_min(xx)"
   ]
  },
  {
   "cell_type": "code",
   "execution_count": 30,
   "metadata": {},
   "outputs": [],
   "source": [
    "def distributed_true_max(x, dim=1, keepdim=True):\n",
    "    c = 0.0\n",
    "    xs = torch.split(x, 1, dim=1)                              # time_dim tuple\n",
    "    h = xs[0]\n",
    "    time_dim = len(xs)\n",
    "    for i in range(time_dim):\n",
    "        h = (x == h) * ((h * c + x)/ (c + 1)) + (x < h) * (x) + (x > h) * (h)\n",
    "        c = (x == h) * (c + 1.0) + (x < h) * (1.0) + (x > h) * (c)\n",
    "    return h"
   ]
  },
  {
   "cell_type": "code",
   "execution_count": 34,
   "metadata": {},
   "outputs": [
    {
     "name": "stdout",
     "output_type": "stream",
     "text": [
      "tensor([[[ 1.0000, -1.1000]]], grad_fn=<AddBackward0>)\n",
      "tensor([[[ 1.0000, -1.1000]]], grad_fn=<AddBackward0>)\n",
      "tensor([[[ 1.0000, -1.1000]]], grad_fn=<AddBackward0>)\n",
      "tensor([[[ 1.0000, -1.1000]]], grad_fn=<AddBackward0>)\n",
      "tensor([[[ 1.0000, -1.1000]]], grad_fn=<AddBackward0>)\n"
     ]
    }
   ],
   "source": [
    "c = 0.0\n",
    "xs = torch.split(xx, 1, dim=1)                              # time_dim tuple\n",
    "h = xs[0]\n",
    "time_dim = len(xs)\n",
    "for x in xs:\n",
    "    x = xs[i]\n",
    "    h = (x == h) * ((h * c + x)/ (c + 1)) + (x < h) * (x) + (x > h) * (h)\n",
    "    c = (x == h) * (c + 1.0) + (x < h) * (1.0) + (x > h) * (c)\n",
    "    print(h)"
   ]
  },
  {
   "cell_type": "code",
   "execution_count": 32,
   "metadata": {},
   "outputs": [
    {
     "data": {
      "text/plain": [
       "tensor([[[ 0.6000, -1.1000]]], grad_fn=<AddBackward0>)"
      ]
     },
     "execution_count": 32,
     "metadata": {},
     "output_type": "execute_result"
    }
   ],
   "source": [
    "h"
   ]
  },
  {
   "cell_type": "code",
   "execution_count": 10,
   "metadata": {},
   "outputs": [
    {
     "data": {
      "text/plain": [
       "([tensor([[[1.1000, 1.1000]]], grad_fn=<AddBackward0>),\n",
       "  tensor([[[0.9000, 0.9000]]], grad_fn=<AddBackward0>),\n",
       "  tensor([[[0.9000, 0.9000]]], grad_fn=<AddBackward0>),\n",
       "  tensor([[[0.6000, 0.6000]]], grad_fn=<AddBackward0>)],\n",
       " [(tensor([[[1.1000, 1.1000]]], grad_fn=<AddBackward0>), tensor([[[1., 1.]]])),\n",
       "  (tensor([[[0.9000, 0.9000]]], grad_fn=<AddBackward0>), tensor([[[1., 1.]]])),\n",
       "  (tensor([[[0.9000, 0.9000]]], grad_fn=<AddBackward0>), tensor([[[1., 1.]]])),\n",
       "  (tensor([[[0.6000, 0.6000]]], grad_fn=<AddBackward0>),\n",
       "   tensor([[[1., 1.]]]))])"
      ]
     },
     "execution_count": 10,
     "metadata": {},
     "output_type": "execute_result"
    }
   ],
   "source": [
    "scale=-1\n",
    "alw._run_rnn_cell(xx, scale)"
   ]
  },
  {
   "cell_type": "code",
   "execution_count": 108,
   "metadata": {},
   "outputs": [
    {
     "data": {
      "text/plain": [
       "torch.Size([1, 4, 2])"
      ]
     },
     "execution_count": 108,
     "metadata": {},
     "output_type": "execute_result"
    }
   ],
   "source": [
    "xx.shape"
   ]
  },
  {
   "cell_type": "code",
   "execution_count": 109,
   "metadata": {},
   "outputs": [
    {
     "data": {
      "text/plain": [
       "(tensor([[[1., 1.]]], grad_fn=<SplitBackward>),\n",
       " tensor([[[0.9000, 0.9000]]], grad_fn=<SplitBackward>),\n",
       " tensor([[[0.9500, 0.9500]]], grad_fn=<SplitBackward>),\n",
       " tensor([[[1., 1.]]], grad_fn=<SplitBackward>))"
      ]
     },
     "execution_count": 109,
     "metadata": {},
     "output_type": "execute_result"
    }
   ],
   "source": [
    "torch.split(xx, 1, dim=1)"
   ]
  },
  {
   "cell_type": "code",
   "execution_count": 104,
   "metadata": {},
   "outputs": [],
   "source": [
    "scale = 1000\n",
    "r = m(xx, scale, dim=1)"
   ]
  },
  {
   "cell_type": "code",
   "execution_count": 105,
   "metadata": {},
   "outputs": [
    {
     "name": "stdout",
     "output_type": "stream",
     "text": [
      "tensor([[[ 5.0000e-01],\n",
      "         [-1.3817e-42],\n",
      "         [-4.7254e-21],\n",
      "         [ 5.0000e-01]]])\n"
     ]
    },
    {
     "data": {
      "text/plain": [
       "tensor([[[0.],\n",
       "         [0.],\n",
       "         [0.],\n",
       "         [0.]]])"
      ]
     },
     "execution_count": 105,
     "metadata": {},
     "output_type": "execute_result"
    }
   ],
   "source": [
    "r.backward()\n",
    "with torch.no_grad():\n",
    "    print(xx.grad)\n",
    "xx.grad.zero_()"
   ]
  },
  {
   "cell_type": "markdown",
   "metadata": {},
   "source": [
    "# Signal convolutional logic"
   ]
  },
  {
   "cell_type": "code",
   "execution_count": 5,
   "metadata": {},
   "outputs": [],
   "source": [
    "ϕa = stlcg.Integral1d(subformula=stlcg.Identity(), padding_type=\"zero\")\n",
    "ϕb = stlcg.Integral1d(subformula=stlcg.Identity(), interval=[0, 5], padding_type=\"zero\")\n",
    "ϕc = stlcg.Integral1d(subformula=stlcg.Identity(), interval=[2, 5], padding_type=\"zero\")\n",
    "ϕd = stlcg.Always(subformula=stlcg.Identity(), interval=[0, 5])\n",
    "ϕe = stlcg.Always(subformula=stlcg.Identity(), interval=[2, 5])"
   ]
  },
  {
   "cell_type": "code",
   "execution_count": 6,
   "metadata": {
    "scrolled": false
   },
   "outputs": [
    {
     "data": {
      "image/png": "[encoded data removed]",
      "text/plain": [
       "<Figure size 1080x432 with 1 Axes>"
      ]
     },
     "metadata": {
      "needs_background": "light"
     },
     "output_type": "display_data"
    }
   ],
   "source": [
    "dt = 1.0\n",
    "signal = x - 0.25\n",
    "bsignal = 1.0*(signal > 0)\n",
    "mask = torch.ones(signal.shape)\n",
    "mask *= 2\n",
    "mask[:,0,:] -= 1\n",
    "mask[:,-1,:] -= 1\n",
    "mask *= dt/2\n",
    "p = 5\n",
    "plt.figure(figsize=(15,6))\n",
    "\n",
    "plt.plot(range(len(signal.squeeze())), signal.squeeze().numpy())\n",
    "plt.scatter(range(len(signal.squeeze())), signal.squeeze().numpy())\n",
    "\n",
    "plt.plot(range(len(signal.squeeze())), ϕa(signal).squeeze().numpy(), label=\"integral\")\n",
    "plt.plot(range(len(signal.squeeze())), ϕb(signal).squeeze().numpy(), label=\"integral [0, 5]\")\n",
    "plt.plot(range(len(signal.squeeze())), ϕc(signal).squeeze().numpy(), label=\"integral [2, 5]\")\n",
    "plt.plot(range(len(signal.squeeze())), ϕd(signal).squeeze().numpy(), linewidth=3, label=\"always [0, 5]\")\n",
    "plt.plot(range(len(signal.squeeze())), ϕe(signal).squeeze().numpy(), linewidth=3, label=\"always [2, 5]\")\n",
    "\n",
    "plt.plot([0, len(signal.squeeze())-1], [0, 0], \"--\")\n",
    "plt.legend(fontsize=16)\n",
    "plt.grid()"
   ]
  },
  {
   "cell_type": "code",
   "execution_count": 7,
   "metadata": {},
   "outputs": [],
   "source": [
    "obs_1 = torch.tensor([-0.5, 0.5, 0.5, 0.75]).float()     # red box in bottom right corner\n",
    "def inside_box(xy, obs):\n",
    "    x = stlcg.Expression('x', xy[:,:1].unsqueeze(0))\n",
    "    y = stlcg.Expression('y', xy[:,1:].unsqueeze(0))\n",
    "    r1 = stlcg.Expression(obs[:1].unsqueeze(-1).unsqueeze(-1))\n",
    "    r2 = stlcg.Expression(obs[1:2].unsqueeze(-1).unsqueeze(-1))\n",
    "    r3 = stlcg.Expression(obs[2:3].unsqueeze(-1).unsqueeze(-1))\n",
    "    r4 = stlcg.Expression(obs[3:4].unsqueeze(-1).unsqueeze(-1))\n",
    "    inputs = ((x,x), (y,y))\n",
    "    return ((x > r1) & (x < r2)) & ((y > r3) & (y < r4)), inputs\n",
    "def control_limit(u, u_max):\n",
    "    u_abs = stlcg.Expression('u', u.norm(dim=1, keepdim=True).unsqueeze(0))\n",
    "    um = stlcg.Expression(u_max.unsqueeze(-1).unsqueeze(-1))\n",
    "    return stlcg.Always(subformula=(u_abs < um)), u_abs"
   ]
  },
  {
   "cell_type": "code",
   "execution_count": 8,
   "metadata": {},
   "outputs": [],
   "source": [
    "dx = 0.06\n",
    "n = np.stack([np.arange(-1, 1, dx), np.arange(-1, 1, dx)]).T\n",
    "x0 = np.array([-1.0, 1.0])\n",
    "xf = np.ones(2)\n",
    "N = n.shape\n",
    "\n",
    "u_max = torch.as_tensor(0.9).float()       # u max\n"
   ]
  },
  {
   "cell_type": "code",
   "execution_count": 9,
   "metadata": {},
   "outputs": [
    {
     "data": {
      "image/png": "[encoded data removed]",
      "text/plain": [
       "<Figure size 720x720 with 1 Axes>"
      ]
     },
     "metadata": {
      "needs_background": "light"
     },
     "output_type": "display_data"
    }
   ],
   "source": [
    "plt.figure(figsize=(10,10))\n",
    "plt.plot([obs_1[0], obs_1[0], obs_1[1], obs_1[1], obs_1[0]], [obs_1[2], obs_1[3], obs_1[3], obs_1[2], obs_1[2]], c=\"red\", linewidth=5)\n",
    "plt.scatter(*x0, s=300, c=\"orange\")\n",
    "plt.scatter(*xf, s=800, marker='*', c=\"orange\")\n",
    "plt.axis(\"equal\")\n",
    "plt.grid()\n"
   ]
  },
  {
   "cell_type": "code",
   "execution_count": 10,
   "metadata": {},
   "outputs": [],
   "source": [
    "Δt = 0.1\n",
    "A = np.eye(2)\n",
    "B = np.eye(2) * Δt\n",
    "E = np.zeros([2*(N[0]+1), (2*N[0] - 1)*N[1]])\n",
    "d = np.zeros((2*(N[0]+1)))\n",
    "\n",
    "for i in range(N[0]-1):\n",
    "    E[2*i:2*i+2,2*i:2*i+2] = A\n",
    "    E[2*i:2*i+2,2*(i+1):2*(i+1)+2] = -A\n",
    "    j = 2*i + N[0]*N[1]\n",
    "    E[2*i:2*i+2,j:j+2] = B\n",
    "E[2*(N[0]-1):2*(N[0]-1)+2, :2] = A\n",
    "E[2*N[0]:2*N[0]+2, 2*(N[0]-1):2*(N[0]-1)+2] = A\n",
    "\n",
    "d[-4:-2] = x0\n",
    "d[-2:] = xf\n",
    "\n",
    "Q = np.zeros([(2*N[0] - 1)*N[1], (2*N[0] - 1)*N[1]])           # no state cost\n",
    "R = np.eye((N[0]-1) * N[1])                                    # control cost\n",
    "Q[N[1]*N[0]:, N[1]*N[0]:] = R\n",
    "c = np.zeros([(2*N[0] - 1)*N[1]])\n",
    "\n",
    "# building up the KKT matrix\n",
    "K = np.zeros([Q.shape[0]+E.shape[0], Q.shape[1] + E.shape[0]])\n",
    "K[:Q.shape[0], :] = np.concatenate([Q, E.T], axis=1)\n",
    "K[Q.shape[0]:, :E.shape[1]] = E\n",
    "D = np.concatenate([-c, d])\n",
    "\n",
    "KK = torch.as_tensor(K).float()\n",
    "DD = torch.as_tensor(D).float()\n",
    "\n",
    "# matrix describing the dynamics and state constraints\n",
    "CC = torch.as_tensor(d).float()\n",
    "EE = torch.as_tensor(E).float()\n",
    "\n",
    "# solving the KKT matrix (i.e., straight line) and getting only the states (not the lagrange multipliers)\n",
    "Z = torch.as_tensor((np.linalg.inv(K) @ D)[:(2*N[0] - 1) * N[1]]).float().requires_grad_(True)\n"
   ]
  },
  {
   "cell_type": "code",
   "execution_count": 11,
   "metadata": {},
   "outputs": [],
   "source": [
    "Z = torch.as_tensor((np.linalg.inv(K) @ D)[:(2*N[0] - 1) * N[1]]).float().requires_grad_(True)"
   ]
  },
  {
   "cell_type": "code",
   "execution_count": 12,
   "metadata": {},
   "outputs": [],
   "source": [
    "X = Z[:N[0]*N[1]].reshape(N[0], N[1])\n",
    "x = X[:,:1].unsqueeze(0)\n",
    "y = X[:,1:].unsqueeze(0)\n",
    "\n",
    "U = Z[N[0]*N[1]:(N[0]*N[1] + (N[0]-1)*N[1])].reshape(N[0]-1,N[1])\n",
    "ux = U[:,:1]\n",
    "uy = U[:,1:]\n",
    "\n",
    "T = 10\n",
    "inside_box_1, _ = inside_box(X, obs_1)\n",
    "ϕ1 = stlcg.Eventually(subformula=stlcg.Integral1d(subformula=inside_box_1, interval=[0,T], padding_type=\"same\", custom_number=0.1))\n",
    "ϕ2 = stlcg.Eventually(subformula=stlcg.Always(subformula=inside_box_1, interval=[0,T]))\n",
    "\n",
    "θ, _ = control_limit(U, u_max)\n",
    "\n",
    "box_inputs = ((x, x),(y, y))\n",
    "control_inputs = U.norm(dim=1, keepdim=True).unsqueeze(0)\n",
    "\n"
   ]
  },
  {
   "cell_type": "code",
   "execution_count": 13,
   "metadata": {},
   "outputs": [
    {
     "data": {
      "image/png": "[encoded data removed]",
      "text/plain": [
       "<Figure size 720x720 with 1 Axes>"
      ]
     },
     "metadata": {
      "needs_background": "light"
     },
     "output_type": "display_data"
    }
   ],
   "source": [
    "plt.figure(figsize=(10,10))\n",
    "plt.plot([obs_1[0], obs_1[0], obs_1[1], obs_1[1], obs_1[0]], [obs_1[2], obs_1[3], obs_1[3], obs_1[2], obs_1[2]], c=\"red\", linewidth=5)\n",
    "plt.scatter(*x0, s=300, c=\"orange\")\n",
    "plt.scatter(*xf, s=800, marker='*', c=\"orange\")\n",
    "plt.plot(x.detach().squeeze().numpy(), y.detach().squeeze().numpy())\n",
    "plt.scatter(x.detach().squeeze().numpy(), y.detach().squeeze().numpy())\n",
    "plt.axis(\"equal\")\n",
    "plt.grid()\n"
   ]
  },
  {
   "cell_type": "code",
   "execution_count": 14,
   "metadata": {
    "scrolled": false
   },
   "outputs": [
    {
     "ename": "ValueError",
     "evalue": "not enough values to unpack (expected 2, got 1)",
     "output_type": "error",
     "traceback": [
      "\u001b[0;31m---------------------------------------------------------------------------\u001b[0m",
      "\u001b[0;31mValueError\u001b[0m                                Traceback (most recent call last)",
      "\u001b[0;32m<ipython-input-14-ceffdfb5c4ec>\u001b[0m in \u001b[0;36m<module>\u001b[0;34m\u001b[0m\n\u001b[1;32m      2\u001b[0m \u001b[0magm\u001b[0m \u001b[0;34m=\u001b[0m \u001b[0;32mFalse\u001b[0m\u001b[0;34m\u001b[0m\u001b[0m\n\u001b[1;32m      3\u001b[0m \u001b[0;34m\u001b[0m\u001b[0m\n\u001b[0;32m----> 4\u001b[0;31m \u001b[0mrobustness_1\u001b[0m \u001b[0;34m=\u001b[0m \u001b[0mtorch\u001b[0m\u001b[0;34m.\u001b[0m\u001b[0mrelu\u001b[0m\u001b[0;34m(\u001b[0m\u001b[0;34m-\u001b[0m\u001b[0mϕ1\u001b[0m\u001b[0;34m.\u001b[0m\u001b[0mrobustness\u001b[0m\u001b[0;34m(\u001b[0m\u001b[0mbox_inputs\u001b[0m\u001b[0;34m,\u001b[0m \u001b[0mscale\u001b[0m\u001b[0;34m=\u001b[0m\u001b[0mscale\u001b[0m\u001b[0;34m)\u001b[0m\u001b[0;34m.\u001b[0m\u001b[0msqueeze\u001b[0m\u001b[0;34m(\u001b[0m\u001b[0;34m)\u001b[0m\u001b[0;34m)\u001b[0m\u001b[0;34m\u001b[0m\u001b[0m\n\u001b[0m\u001b[1;32m      5\u001b[0m \u001b[0mrobustness_2\u001b[0m \u001b[0;34m=\u001b[0m \u001b[0mtorch\u001b[0m\u001b[0;34m.\u001b[0m\u001b[0mrelu\u001b[0m\u001b[0;34m(\u001b[0m\u001b[0;34m-\u001b[0m\u001b[0mθ\u001b[0m\u001b[0;34m.\u001b[0m\u001b[0mrobustness\u001b[0m\u001b[0;34m(\u001b[0m\u001b[0mcontrol_inputs\u001b[0m\u001b[0;34m,\u001b[0m \u001b[0mscale\u001b[0m\u001b[0;34m=\u001b[0m\u001b[0mscale\u001b[0m\u001b[0;34m)\u001b[0m\u001b[0;34m.\u001b[0m\u001b[0msqueeze\u001b[0m\u001b[0;34m(\u001b[0m\u001b[0;34m)\u001b[0m\u001b[0;34m)\u001b[0m\u001b[0;34m\u001b[0m\u001b[0m\n\u001b[1;32m      6\u001b[0m \u001b[0;34m\u001b[0m\u001b[0m\n",
      "\u001b[0;32m~/projects/stlcg_karen/src/stlcg_agm.py\u001b[0m in \u001b[0;36mrobustness\u001b[0;34m(self, inputs, time, pscale, scale, keepdim, agm, **kwargs)\u001b[0m\n\u001b[1;32m    156\u001b[0m         \u001b[0mExtracts\u001b[0m \u001b[0mthe\u001b[0m \u001b[0mrobustness_trace\u001b[0m \u001b[0mvalue\u001b[0m \u001b[0mat\u001b[0m \u001b[0mthe\u001b[0m \u001b[0mgiven\u001b[0m \u001b[0mtime\u001b[0m\u001b[0;34m.\u001b[0m \u001b[0;34m(\u001b[0m\u001b[0mDefault\u001b[0m\u001b[0;34m:\u001b[0m \u001b[0mtime\u001b[0m\u001b[0;34m=\u001b[0m\u001b[0;36m0\u001b[0m \u001b[0massuming\u001b[0m \u001b[0mreverse\u001b[0m \u001b[0mtrace\u001b[0m\u001b[0;34m)\u001b[0m\u001b[0;34m\u001b[0m\u001b[0m\n\u001b[1;32m    157\u001b[0m         '''\n\u001b[0;32m--> 158\u001b[0;31m         \u001b[0;32mreturn\u001b[0m \u001b[0mself\u001b[0m\u001b[0;34m.\u001b[0m\u001b[0mrobustness_trace\u001b[0m\u001b[0;34m(\u001b[0m\u001b[0minputs\u001b[0m\u001b[0;34m,\u001b[0m \u001b[0mpscale\u001b[0m\u001b[0;34m=\u001b[0m\u001b[0mpscale\u001b[0m\u001b[0;34m,\u001b[0m \u001b[0mscale\u001b[0m\u001b[0;34m=\u001b[0m\u001b[0mscale\u001b[0m\u001b[0;34m,\u001b[0m \u001b[0mkeepdim\u001b[0m\u001b[0;34m=\u001b[0m\u001b[0mkeepdim\u001b[0m\u001b[0;34m,\u001b[0m \u001b[0magm\u001b[0m\u001b[0;34m=\u001b[0m\u001b[0magm\u001b[0m\u001b[0;34m,\u001b[0m \u001b[0;34m**\u001b[0m\u001b[0mkwargs\u001b[0m\u001b[0;34m)\u001b[0m\u001b[0;34m[\u001b[0m\u001b[0;34m:\u001b[0m\u001b[0;34m,\u001b[0m\u001b[0;34m-\u001b[0m\u001b[0;34m(\u001b[0m\u001b[0mtime\u001b[0m\u001b[0;34m+\u001b[0m\u001b[0;36m1\u001b[0m\u001b[0;34m)\u001b[0m\u001b[0;34m,\u001b[0m\u001b[0;34m:\u001b[0m\u001b[0;34m]\u001b[0m\u001b[0;34m.\u001b[0m\u001b[0munsqueeze\u001b[0m\u001b[0;34m(\u001b[0m\u001b[0;36m1\u001b[0m\u001b[0;34m)\u001b[0m\u001b[0;34m\u001b[0m\u001b[0m\n\u001b[0m\u001b[1;32m    159\u001b[0m \u001b[0;34m\u001b[0m\u001b[0m\n\u001b[1;32m    160\u001b[0m     \u001b[0;32mdef\u001b[0m \u001b[0meval_trace\u001b[0m\u001b[0;34m(\u001b[0m\u001b[0mself\u001b[0m\u001b[0;34m,\u001b[0m \u001b[0minputs\u001b[0m\u001b[0;34m,\u001b[0m \u001b[0mpscale\u001b[0m\u001b[0;34m=\u001b[0m\u001b[0;36m1\u001b[0m\u001b[0;34m,\u001b[0m \u001b[0mscale\u001b[0m\u001b[0;34m=\u001b[0m\u001b[0;34m-\u001b[0m\u001b[0;36m1\u001b[0m\u001b[0;34m,\u001b[0m \u001b[0mkeepdim\u001b[0m\u001b[0;34m=\u001b[0m\u001b[0;32mTrue\u001b[0m\u001b[0;34m,\u001b[0m \u001b[0magm\u001b[0m\u001b[0;34m=\u001b[0m\u001b[0;32mFalse\u001b[0m\u001b[0;34m,\u001b[0m \u001b[0;34m**\u001b[0m\u001b[0mkwargs\u001b[0m\u001b[0;34m)\u001b[0m\u001b[0;34m:\u001b[0m\u001b[0;34m\u001b[0m\u001b[0m\n",
      "\u001b[0;32m~/projects/stlcg_karen/src/stlcg_agm.py\u001b[0m in \u001b[0;36mrobustness_trace\u001b[0;34m(self, inputs, pscale, scale, keepdim, agm, **kwargs)\u001b[0m\n\u001b[1;32m    273\u001b[0m     \u001b[0;32mdef\u001b[0m \u001b[0mrobustness_trace\u001b[0m\u001b[0;34m(\u001b[0m\u001b[0mself\u001b[0m\u001b[0;34m,\u001b[0m \u001b[0minputs\u001b[0m\u001b[0;34m,\u001b[0m \u001b[0mpscale\u001b[0m\u001b[0;34m=\u001b[0m\u001b[0;36m1\u001b[0m\u001b[0;34m,\u001b[0m \u001b[0mscale\u001b[0m\u001b[0;34m=\u001b[0m\u001b[0;34m-\u001b[0m\u001b[0;36m1\u001b[0m\u001b[0;34m,\u001b[0m \u001b[0mkeepdim\u001b[0m\u001b[0;34m=\u001b[0m\u001b[0;32mTrue\u001b[0m\u001b[0;34m,\u001b[0m \u001b[0magm\u001b[0m\u001b[0;34m=\u001b[0m\u001b[0;32mFalse\u001b[0m\u001b[0;34m,\u001b[0m \u001b[0;34m**\u001b[0m\u001b[0mkwargs\u001b[0m\u001b[0;34m)\u001b[0m\u001b[0;34m:\u001b[0m\u001b[0;34m\u001b[0m\u001b[0m\n\u001b[1;32m    274\u001b[0m         \u001b[0mtrace\u001b[0m \u001b[0;34m=\u001b[0m \u001b[0mself\u001b[0m\u001b[0;34m.\u001b[0m\u001b[0msubformula\u001b[0m\u001b[0;34m(\u001b[0m\u001b[0minputs\u001b[0m\u001b[0;34m,\u001b[0m \u001b[0mpscale\u001b[0m\u001b[0;34m=\u001b[0m\u001b[0mpscale\u001b[0m\u001b[0;34m,\u001b[0m \u001b[0mscale\u001b[0m\u001b[0;34m=\u001b[0m\u001b[0mscale\u001b[0m\u001b[0;34m,\u001b[0m \u001b[0mkeepdim\u001b[0m\u001b[0;34m=\u001b[0m\u001b[0mkeepdim\u001b[0m\u001b[0;34m,\u001b[0m \u001b[0magm\u001b[0m\u001b[0;34m=\u001b[0m\u001b[0magm\u001b[0m\u001b[0;34m,\u001b[0m \u001b[0;34m**\u001b[0m\u001b[0mkwargs\u001b[0m\u001b[0;34m)\u001b[0m\u001b[0;34m\u001b[0m\u001b[0m\n\u001b[0;32m--> 275\u001b[0;31m         \u001b[0moutputs\u001b[0m\u001b[0;34m,\u001b[0m \u001b[0mstates\u001b[0m \u001b[0;34m=\u001b[0m \u001b[0mself\u001b[0m\u001b[0;34m.\u001b[0m\u001b[0m_run_rnn_cell\u001b[0m\u001b[0;34m(\u001b[0m\u001b[0mtrace\u001b[0m\u001b[0;34m,\u001b[0m \u001b[0mscale\u001b[0m\u001b[0;34m=\u001b[0m\u001b[0mscale\u001b[0m\u001b[0;34m,\u001b[0m \u001b[0magm\u001b[0m\u001b[0;34m=\u001b[0m\u001b[0magm\u001b[0m\u001b[0;34m)\u001b[0m\u001b[0;34m\u001b[0m\u001b[0m\n\u001b[0m\u001b[1;32m    276\u001b[0m         \u001b[0;32mreturn\u001b[0m \u001b[0mtorch\u001b[0m\u001b[0;34m.\u001b[0m\u001b[0mcat\u001b[0m\u001b[0;34m(\u001b[0m\u001b[0moutputs\u001b[0m\u001b[0;34m,\u001b[0m \u001b[0mdim\u001b[0m\u001b[0;34m=\u001b[0m\u001b[0;36m1\u001b[0m\u001b[0;34m)\u001b[0m                              \u001b[0;31m# [batch_size, time_dim, ...]\u001b[0m\u001b[0;34m\u001b[0m\u001b[0m\n\u001b[1;32m    277\u001b[0m \u001b[0;34m\u001b[0m\u001b[0m\n",
      "\u001b[0;32m~/projects/stlcg_karen/src/stlcg_agm.py\u001b[0m in \u001b[0;36m_run_rnn_cell\u001b[0;34m(self, x, scale, agm)\u001b[0m\n\u001b[1;32m    260\u001b[0m         \u001b[0moutputs\u001b[0m \u001b[0;34m=\u001b[0m \u001b[0;34m[\u001b[0m\u001b[0;34m]\u001b[0m\u001b[0;34m\u001b[0m\u001b[0m\n\u001b[1;32m    261\u001b[0m         \u001b[0mstates\u001b[0m \u001b[0;34m=\u001b[0m \u001b[0;34m[\u001b[0m\u001b[0;34m]\u001b[0m\u001b[0;34m\u001b[0m\u001b[0m\n\u001b[0;32m--> 262\u001b[0;31m         \u001b[0mh\u001b[0m\u001b[0;34m,\u001b[0m \u001b[0mcount\u001b[0m \u001b[0;34m=\u001b[0m \u001b[0mself\u001b[0m\u001b[0;34m.\u001b[0m\u001b[0m_initialize_rnn_cell\u001b[0m\u001b[0;34m(\u001b[0m\u001b[0mx\u001b[0m\u001b[0;34m)\u001b[0m                                \u001b[0;31m# [batch_size, rnn_dim, x_dim]\u001b[0m\u001b[0;34m\u001b[0m\u001b[0m\n\u001b[0m\u001b[1;32m    263\u001b[0m         \u001b[0mxs\u001b[0m \u001b[0;34m=\u001b[0m \u001b[0mtorch\u001b[0m\u001b[0;34m.\u001b[0m\u001b[0msplit\u001b[0m\u001b[0;34m(\u001b[0m\u001b[0mx\u001b[0m\u001b[0;34m,\u001b[0m \u001b[0;36m1\u001b[0m\u001b[0;34m,\u001b[0m \u001b[0mdim\u001b[0m\u001b[0;34m=\u001b[0m\u001b[0;36m1\u001b[0m\u001b[0;34m)\u001b[0m                                   \u001b[0;31m# time_dim tuple\u001b[0m\u001b[0;34m\u001b[0m\u001b[0m\n\u001b[1;32m    264\u001b[0m         \u001b[0mtime_dim\u001b[0m \u001b[0;34m=\u001b[0m \u001b[0mlen\u001b[0m\u001b[0;34m(\u001b[0m\u001b[0mxs\u001b[0m\u001b[0;34m)\u001b[0m\u001b[0;34m\u001b[0m\u001b[0m\n",
      "\u001b[0;31mValueError\u001b[0m: not enough values to unpack (expected 2, got 1)"
     ]
    }
   ],
   "source": [
    "scale = -1\n",
    "agm = False\n",
    "\n",
    "robustness_1 = torch.relu(-ϕ1.robustness(box_inputs, scale=scale).squeeze())\n",
    "robustness_2 = torch.relu(-θ.robustness(control_inputs, scale=scale).squeeze())\n",
    "\n",
    "plt.figure(figsize=(16, 8))\n",
    "signal = inside_box_1(box_inputs, scale=scale, agm=agm).detach().squeeze().numpy()\n",
    "plt.plot(range(len(signal)), signal, label=\"inside box\")\n",
    "plt.scatter(range(len(signal)), signal, s=50)\n",
    "\n",
    "integral = ϕ1.subformula(box_inputs, scale=scale, agm=agm).detach().squeeze().numpy()\n",
    "plt.plot(range(len(signal)), integral, label=\"integral [0, 5] inside box\")\n",
    "plt.scatter(range(len(signal)), integral)\n",
    "\n",
    "rob = ϕ1(box_inputs, scale=scale, agm=agm).detach().squeeze().numpy()\n",
    "plt.plot(range(len(signal)), rob, label=\"eventually integral [0, 5] inside box\")\n",
    "plt.scatter(range(len(signal)), rob)\n",
    "\n",
    "always = ϕ2.subformula(box_inputs, scale=scale, agm=agm).detach().squeeze().numpy()\n",
    "plt.plot(range(len(signal)), always, label=\"always [0, 5] inside box\")\n",
    "plt.scatter(range(len(signal)), always, s=100)\n",
    "\n",
    "rob = ϕ2(box_inputs, scale=scale, agm=agm).detach().squeeze().numpy()\n",
    "plt.plot(range(len(signal)), rob, label=\"eventually always [0, 5] inside box\")\n",
    "plt.scatter(range(len(signal)), rob, s=25)\n",
    "\n",
    "plt.legend(fontsize=16)\n",
    "plt.grid()\n",
    "plt.ylim([-2.8, -2.7])\n"
   ]
  },
  {
   "cell_type": "code",
   "execution_count": 332,
   "metadata": {},
   "outputs": [
    {
     "data": {
      "text/plain": [
       "array([[[-5.5      ],\n",
       "        [-5.439394 ],\n",
       "        [-5.318182 ],\n",
       "        [-5.136364 ],\n",
       "        [-4.89394  ],\n",
       "        [-4.64394  ],\n",
       "        [-4.3939395],\n",
       "        [-4.1439395],\n",
       "        [-3.8939395],\n",
       "        [-3.6439395],\n",
       "        [-3.3939393],\n",
       "        [-3.1439395],\n",
       "        [-2.9545455],\n",
       "        [-2.8257575],\n",
       "        [-2.7575758],\n",
       "        [-2.75     ],\n",
       "        [-2.75     ],\n",
       "        [-2.75     ],\n",
       "        [-2.75     ],\n",
       "        [-2.75     ],\n",
       "        [-2.75     ],\n",
       "        [-2.75     ],\n",
       "        [-2.75     ],\n",
       "        [-2.75     ],\n",
       "        [-2.75     ],\n",
       "        [-2.75     ],\n",
       "        [-2.75     ],\n",
       "        [-2.75     ],\n",
       "        [-2.75     ],\n",
       "        [-2.7575758],\n",
       "        [-2.8257575],\n",
       "        [-2.9545455],\n",
       "        [-3.1439395],\n",
       "        [-3.3939395]]], dtype=float32)"
      ]
     },
     "execution_count": 332,
     "metadata": {},
     "output_type": "execute_result"
    }
   ],
   "source": [
    "s.detach().numpy()"
   ]
  },
  {
   "cell_type": "code",
   "execution_count": 358,
   "metadata": {},
   "outputs": [],
   "source": [
    "scale = 50\n",
    "s = torch.tensor(ϕ1.subformula(box_inputs, scale=scale, agm=agm).detach().numpy()).requires_grad_(True)\n",
    "r = m(s, scale)"
   ]
  },
  {
   "cell_type": "code",
   "execution_count": 1,
   "metadata": {},
   "outputs": [
    {
     "ename": "NameError",
     "evalue": "name 's' is not defined",
     "output_type": "error",
     "traceback": [
      "\u001b[0;31m---------------------------------------------------------------------------\u001b[0m",
      "\u001b[0;31mNameError\u001b[0m                                 Traceback (most recent call last)",
      "\u001b[0;32m<ipython-input-1-ded5ba42480f>\u001b[0m in \u001b[0;36m<module>\u001b[0;34m\u001b[0m\n\u001b[0;32m----> 1\u001b[0;31m \u001b[0ms\u001b[0m\u001b[0;34m\u001b[0m\u001b[0m\n\u001b[0m",
      "\u001b[0;31mNameError\u001b[0m: name 's' is not defined"
     ]
    }
   ],
   "source": [
    "s"
   ]
  },
  {
   "cell_type": "code",
   "execution_count": 359,
   "metadata": {
    "scrolled": true
   },
   "outputs": [
    {
     "name": "stdout",
     "output_type": "stream",
     "text": [
      "tensor([[[ 0.0000e+00, -5.5000e+00],\n",
      "         [ 0.0000e+00, -5.4394e+00],\n",
      "         [ 0.0000e+00, -5.3180e+00],\n",
      "         [ 0.0000e+00, -5.1340e+00],\n",
      "         [ 0.0000e+00, -4.8885e+00],\n",
      "         [-6.6272e-41, -4.6350e+00],\n",
      "         [-1.5687e-35, -4.3846e+00],\n",
      "         [-3.5626e-30, -4.1345e+00],\n",
      "         [-7.8091e-25, -3.8845e+00],\n",
      "         [-1.6255e-19, -3.6345e+00],\n",
      "         [-3.1008e-14, -3.3845e+00],\n",
      "         [-4.9370e-09, -3.1345e+00],\n",
      "         [-3.0750e-05, -2.9452e+00],\n",
      "         [-5.0889e-03, -2.8166e+00],\n",
      "         [ 5.6361e-02, -2.7506e+00],\n",
      "         [ 8.7149e-02, -2.7461e+00],\n",
      "         [ 6.2359e-02, -2.7496e+00],\n",
      "         [ 5.9997e-02, -2.7500e+00],\n",
      "         [ 5.9822e-02, -2.7500e+00],\n",
      "         [ 5.9811e-02, -2.7500e+00],\n",
      "         [ 5.9811e-02, -2.7500e+00],\n",
      "         [ 5.9811e-02, -2.7500e+00],\n",
      "         [ 5.9811e-02, -2.7500e+00],\n",
      "         [ 5.9811e-02, -2.7500e+00],\n",
      "         [ 5.9811e-02, -2.7500e+00],\n",
      "         [ 5.9822e-02, -2.7500e+00],\n",
      "         [ 5.9995e-02, -2.7500e+00],\n",
      "         [ 6.2358e-02, -2.7496e+00],\n",
      "         [ 8.7149e-02, -2.7461e+00],\n",
      "         [ 5.6361e-02, -2.7506e+00],\n",
      "         [-5.0888e-03, -2.8166e+00],\n",
      "         [-3.0750e-05, -2.9452e+00],\n",
      "         [-4.9372e-09, -3.1345e+00],\n",
      "         [-3.1008e-14, -3.3845e+00]]])\n"
     ]
    }
   ],
   "source": [
    "r.backward()\n",
    "with torch.no_grad():\n",
    "    print(torch.cat([s.grad, s], dim=-1))\n",
    "# r.grad.zero_()"
   ]
  },
  {
   "cell_type": "code",
   "execution_count": 315,
   "metadata": {
    "scrolled": true
   },
   "outputs": [
    {
     "name": "stdout",
     "output_type": "stream",
     "text": [
      "tensor([[-1.0872e-28, -3.6239e-38],\n",
      "        [ 3.2620e-19,  3.4835e-26],\n",
      "        [-3.0545e-12, -9.2580e-17],\n",
      "        [ 1.0141e-07,  6.3973e-10],\n",
      "        [-1.3339e-05,  2.4384e-06],\n",
      "        [ 1.3375e-06,  6.4493e-05],\n",
      "        [ 1.8259e-08,  1.5177e-04],\n",
      "        [ 1.4627e-10,  3.2880e-04],\n",
      "        [ 9.7025e-13,  6.8286e-04],\n",
      "        [ 5.8537e-15,  1.3910e-03],\n",
      "        [ 3.3413e-17,  2.8072e-03],\n",
      "        [ 1.8403e-19,  5.6397e-03],\n",
      "        [ 9.8888e-22,  1.1305e-02],\n",
      "        [ 5.2184e-24,  2.2635e-02],\n",
      "        [ 2.7160e-26,  4.5297e-02],\n",
      "        [ 1.3979e-28,  9.0602e-02],\n",
      "        [ 7.1136e-31,  1.8120e-01],\n",
      "        [-1.4229e-30,  3.6245e-01],\n",
      "        [-1.1488e-27,  7.4452e-01],\n",
      "        [-6.0217e-25,  1.0043e+00],\n",
      "        [-2.3023e-22,  9.9863e-01],\n",
      "        [-8.7230e-20,  9.9721e-01],\n",
      "        [-3.2448e-17,  9.9438e-01],\n",
      "        [-1.1768e-14,  9.8872e-01],\n",
      "        [-4.1132e-12,  9.7739e-01],\n",
      "        [-1.3565e-09,  9.5473e-01],\n",
      "        [-4.0457e-07,  9.0940e-01],\n",
      "        [-9.8513e-05,  8.1886e-01],\n",
      "        [-1.3499e-02,  6.5092e-01],\n",
      "        [ 2.1574e-01,  3.9437e-02],\n",
      "        [-4.9557e-03,  3.1262e-05],\n",
      "        [-3.9274e-08,  1.1904e-12],\n",
      "        [-4.6687e-16,  4.9857e-23],\n",
      "        [-1.0757e-26,  3.5853e-36]])\n"
     ]
    }
   ],
   "source": [
    "robustness_1.backward()\n",
    "with torch.no_grad():\n",
    "    print(Z.grad[:N[0]*N[1]].reshape(N[0], N[1]))\n",
    "# r.grad.zero_()"
   ]
  },
  {
   "cell_type": "code",
   "execution_count": 306,
   "metadata": {},
   "outputs": [
    {
     "data": {
      "text/plain": [
       "tensor([1.], grad_fn=<SumBackward1>)"
      ]
     },
     "execution_count": 306,
     "metadata": {},
     "output_type": "execute_result"
    }
   ],
   "source": [
    "m = stlcg.Maxish()\n",
    "s = torch.tensor([1, 1, 1, 0.5, 1, 1]).float().requires_grad_(True)\n",
    "scale = 50\n",
    "r = m(s, scale, dim=0)\n",
    "r"
   ]
  },
  {
   "cell_type": "code",
   "execution_count": 307,
   "metadata": {},
   "outputs": [
    {
     "name": "stdout",
     "output_type": "stream",
     "text": [
      "tensor([ 2.0000e-01,  2.0000e-01,  2.0000e-01, -6.6662e-11,  2.0000e-01,\n",
      "         2.0000e-01])\n"
     ]
    }
   ],
   "source": [
    "r.backward()\n",
    "with torch.no_grad():\n",
    "    print(s.grad)\n",
    "# r.grad.zero_()"
   ]
  },
  {
   "cell_type": "code",
   "execution_count": null,
   "metadata": {},
   "outputs": [],
   "source": [
    "r"
   ]
  },
  {
   "cell_type": "code",
   "execution_count": null,
   "metadata": {},
   "outputs": [],
   "source": []
  },
  {
   "cell_type": "code",
   "execution_count": 308,
   "metadata": {},
   "outputs": [
    {
     "name": "stdout",
     "output_type": "stream",
     "text": [
      "0: loss: -0.003   robustness_1: 0.000     robustness_2: -0.272     cont: 0.000097\n",
      "100: loss: -0.003   robustness_1: 0.000     robustness_2: -0.272     cont: 0.000107\n",
      "200: loss: -0.003   robustness_1: 0.000     robustness_2: -0.272     cont: 0.000096\n",
      "300: loss: -0.003   robustness_1: 0.000     robustness_2: -0.272     cont: 0.000091\n",
      "400: loss: -0.003   robustness_1: 0.000     robustness_2: -0.272     cont: 0.000098\n",
      "500: loss: -0.003   robustness_1: 0.000     robustness_2: -0.272     cont: 0.000091\n",
      "600: loss: -0.003   robustness_1: 0.000     robustness_2: -0.272     cont: 0.000087\n",
      "700: loss: -0.003   robustness_1: 0.000     robustness_2: -0.272     cont: 0.000095\n",
      "800: loss: -0.003   robustness_1: 0.000     robustness_2: -0.272     cont: 0.000088\n"
     ]
    },
    {
     "ename": "KeyboardInterrupt",
     "evalue": "",
     "output_type": "error",
     "traceback": [
      "\u001b[0;31m---------------------------------------------------------------------------\u001b[0m",
      "\u001b[0;31mKeyboardInterrupt\u001b[0m                         Traceback (most recent call last)",
      "\u001b[0;32m<ipython-input-308-c3aa830f3289>\u001b[0m in \u001b[0;36m<module>\u001b[0;34m\u001b[0m\n\u001b[1;32m     55\u001b[0m         \u001b[0mplt\u001b[0m\u001b[0;34m.\u001b[0m\u001b[0mscatter\u001b[0m\u001b[0;34m(\u001b[0m\u001b[0mxs\u001b[0m\u001b[0;34m[\u001b[0m\u001b[0;34m:\u001b[0m\u001b[0;34m,\u001b[0m\u001b[0;36m0\u001b[0m\u001b[0;34m]\u001b[0m\u001b[0;34m,\u001b[0m \u001b[0mxs\u001b[0m\u001b[0;34m[\u001b[0m\u001b[0;34m:\u001b[0m\u001b[0;34m,\u001b[0m\u001b[0;36m1\u001b[0m\u001b[0;34m]\u001b[0m\u001b[0;34m,\u001b[0m \u001b[0mc\u001b[0m\u001b[0;34m=\u001b[0m\u001b[0;34m\"lightblue\"\u001b[0m\u001b[0;34m)\u001b[0m\u001b[0;34m\u001b[0m\u001b[0m\n\u001b[1;32m     56\u001b[0m         \u001b[0mplt\u001b[0m\u001b[0;34m.\u001b[0m\u001b[0mgrid\u001b[0m\u001b[0;34m(\u001b[0m\u001b[0;34m)\u001b[0m\u001b[0;34m\u001b[0m\u001b[0m\n\u001b[0;32m---> 57\u001b[0;31m         \u001b[0mplt\u001b[0m\u001b[0;34m.\u001b[0m\u001b[0msavefig\u001b[0m\u001b[0;34m(\u001b[0m\u001b[0mfig_path\u001b[0m \u001b[0;34m+\u001b[0m \u001b[0;34m\"/\"\u001b[0m \u001b[0;34m+\u001b[0m \u001b[0mstr\u001b[0m\u001b[0;34m(\u001b[0m\u001b[0m_\u001b[0m\u001b[0;34m)\u001b[0m\u001b[0;34m.\u001b[0m\u001b[0mrjust\u001b[0m\u001b[0;34m(\u001b[0m\u001b[0;36m4\u001b[0m\u001b[0;34m,\u001b[0m \u001b[0;34m'0'\u001b[0m\u001b[0;34m)\u001b[0m \u001b[0;34m+\u001b[0m \u001b[0;34m\".png\"\u001b[0m\u001b[0;34m)\u001b[0m\u001b[0;34m\u001b[0m\u001b[0m\n\u001b[0m\u001b[1;32m     58\u001b[0m         \u001b[0mprint\u001b[0m\u001b[0;34m(\u001b[0m\u001b[0;34m\"%i: loss: %.3f   robustness_1: %.3f     robustness_2: %.3f     cont: %.6f\"\u001b[0m\u001b[0;34m%\u001b[0m\u001b[0;34m(\u001b[0m\u001b[0m_\u001b[0m\u001b[0;34m,\u001b[0m \u001b[0mloss\u001b[0m\u001b[0;34m.\u001b[0m\u001b[0mdetach\u001b[0m\u001b[0;34m(\u001b[0m\u001b[0;34m)\u001b[0m\u001b[0;34m.\u001b[0m\u001b[0mnumpy\u001b[0m\u001b[0;34m(\u001b[0m\u001b[0;34m)\u001b[0m\u001b[0;34m,\u001b[0m \u001b[0mrobustness_1\u001b[0m\u001b[0;34m.\u001b[0m\u001b[0mdetach\u001b[0m\u001b[0;34m(\u001b[0m\u001b[0;34m)\u001b[0m\u001b[0;34m.\u001b[0m\u001b[0mnumpy\u001b[0m\u001b[0;34m(\u001b[0m\u001b[0;34m)\u001b[0m\u001b[0;34m,\u001b[0m  \u001b[0mrobustness_2\u001b[0m\u001b[0;34m.\u001b[0m\u001b[0mdetach\u001b[0m\u001b[0;34m(\u001b[0m\u001b[0;34m)\u001b[0m\u001b[0;34m.\u001b[0m\u001b[0mnumpy\u001b[0m\u001b[0;34m(\u001b[0m\u001b[0;34m)\u001b[0m\u001b[0;34m,\u001b[0m \u001b[0mcont\u001b[0m\u001b[0;34m.\u001b[0m\u001b[0mdetach\u001b[0m\u001b[0;34m(\u001b[0m\u001b[0;34m)\u001b[0m\u001b[0;34m.\u001b[0m\u001b[0mnumpy\u001b[0m\u001b[0;34m(\u001b[0m\u001b[0;34m)\u001b[0m\u001b[0;34m)\u001b[0m\u001b[0;34m)\u001b[0m\u001b[0;34m\u001b[0m\u001b[0m\n\u001b[1;32m     59\u001b[0m         \u001b[0mplt\u001b[0m\u001b[0;34m.\u001b[0m\u001b[0mclose\u001b[0m\u001b[0;34m(\u001b[0m\u001b[0;34m)\u001b[0m\u001b[0;34m\u001b[0m\u001b[0m\n",
      "\u001b[0;32m~/projects/stlcg_karen/stlcg-env/lib/python3.5/site-packages/matplotlib/pyplot.py\u001b[0m in \u001b[0;36msavefig\u001b[0;34m(*args, **kwargs)\u001b[0m\n\u001b[1;32m    686\u001b[0m \u001b[0;32mdef\u001b[0m \u001b[0msavefig\u001b[0m\u001b[0;34m(\u001b[0m\u001b[0;34m*\u001b[0m\u001b[0margs\u001b[0m\u001b[0;34m,\u001b[0m \u001b[0;34m**\u001b[0m\u001b[0mkwargs\u001b[0m\u001b[0;34m)\u001b[0m\u001b[0;34m:\u001b[0m\u001b[0;34m\u001b[0m\u001b[0m\n\u001b[1;32m    687\u001b[0m     \u001b[0mfig\u001b[0m \u001b[0;34m=\u001b[0m \u001b[0mgcf\u001b[0m\u001b[0;34m(\u001b[0m\u001b[0;34m)\u001b[0m\u001b[0;34m\u001b[0m\u001b[0m\n\u001b[0;32m--> 688\u001b[0;31m     \u001b[0mres\u001b[0m \u001b[0;34m=\u001b[0m \u001b[0mfig\u001b[0m\u001b[0;34m.\u001b[0m\u001b[0msavefig\u001b[0m\u001b[0;34m(\u001b[0m\u001b[0;34m*\u001b[0m\u001b[0margs\u001b[0m\u001b[0;34m,\u001b[0m \u001b[0;34m**\u001b[0m\u001b[0mkwargs\u001b[0m\u001b[0;34m)\u001b[0m\u001b[0;34m\u001b[0m\u001b[0m\n\u001b[0m\u001b[1;32m    689\u001b[0m     \u001b[0mfig\u001b[0m\u001b[0;34m.\u001b[0m\u001b[0mcanvas\u001b[0m\u001b[0;34m.\u001b[0m\u001b[0mdraw_idle\u001b[0m\u001b[0;34m(\u001b[0m\u001b[0;34m)\u001b[0m   \u001b[0;31m# need this if 'transparent=True' to reset colors\u001b[0m\u001b[0;34m\u001b[0m\u001b[0m\n\u001b[1;32m    690\u001b[0m     \u001b[0;32mreturn\u001b[0m \u001b[0mres\u001b[0m\u001b[0;34m\u001b[0m\u001b[0m\n",
      "\u001b[0;32m~/projects/stlcg_karen/stlcg-env/lib/python3.5/site-packages/matplotlib/figure.py\u001b[0m in \u001b[0;36msavefig\u001b[0;34m(self, fname, frameon, transparent, **kwargs)\u001b[0m\n\u001b[1;32m   2095\u001b[0m             \u001b[0mself\u001b[0m\u001b[0;34m.\u001b[0m\u001b[0mset_frameon\u001b[0m\u001b[0;34m(\u001b[0m\u001b[0mframeon\u001b[0m\u001b[0;34m)\u001b[0m\u001b[0;34m\u001b[0m\u001b[0m\n\u001b[1;32m   2096\u001b[0m \u001b[0;34m\u001b[0m\u001b[0m\n\u001b[0;32m-> 2097\u001b[0;31m         \u001b[0mself\u001b[0m\u001b[0;34m.\u001b[0m\u001b[0mcanvas\u001b[0m\u001b[0;34m.\u001b[0m\u001b[0mprint_figure\u001b[0m\u001b[0;34m(\u001b[0m\u001b[0mfname\u001b[0m\u001b[0;34m,\u001b[0m \u001b[0;34m**\u001b[0m\u001b[0mkwargs\u001b[0m\u001b[0;34m)\u001b[0m\u001b[0;34m\u001b[0m\u001b[0m\n\u001b[0m\u001b[1;32m   2098\u001b[0m \u001b[0;34m\u001b[0m\u001b[0m\n\u001b[1;32m   2099\u001b[0m         \u001b[0;32mif\u001b[0m \u001b[0mframeon\u001b[0m\u001b[0;34m:\u001b[0m\u001b[0;34m\u001b[0m\u001b[0m\n",
      "\u001b[0;32m~/projects/stlcg_karen/stlcg-env/lib/python3.5/site-packages/matplotlib/backend_bases.py\u001b[0m in \u001b[0;36mprint_figure\u001b[0;34m(self, filename, dpi, facecolor, edgecolor, orientation, format, bbox_inches, **kwargs)\u001b[0m\n\u001b[1;32m   2073\u001b[0m                     \u001b[0morientation\u001b[0m\u001b[0;34m=\u001b[0m\u001b[0morientation\u001b[0m\u001b[0;34m,\u001b[0m\u001b[0;34m\u001b[0m\u001b[0m\n\u001b[1;32m   2074\u001b[0m                     \u001b[0mbbox_inches_restore\u001b[0m\u001b[0;34m=\u001b[0m\u001b[0m_bbox_inches_restore\u001b[0m\u001b[0;34m,\u001b[0m\u001b[0;34m\u001b[0m\u001b[0m\n\u001b[0;32m-> 2075\u001b[0;31m                     **kwargs)\n\u001b[0m\u001b[1;32m   2076\u001b[0m             \u001b[0;32mfinally\u001b[0m\u001b[0;34m:\u001b[0m\u001b[0;34m\u001b[0m\u001b[0m\n\u001b[1;32m   2077\u001b[0m                 \u001b[0;32mif\u001b[0m \u001b[0mbbox_inches\u001b[0m \u001b[0;32mand\u001b[0m \u001b[0mrestore_bbox\u001b[0m\u001b[0;34m:\u001b[0m\u001b[0;34m\u001b[0m\u001b[0m\n",
      "\u001b[0;32m~/projects/stlcg_karen/stlcg-env/lib/python3.5/site-packages/matplotlib/backends/backend_agg.py\u001b[0m in \u001b[0;36mprint_png\u001b[0;34m(self, filename_or_obj, *args, **kwargs)\u001b[0m\n\u001b[1;32m    508\u001b[0m \u001b[0;34m\u001b[0m\u001b[0m\n\u001b[1;32m    509\u001b[0m         \"\"\"\n\u001b[0;32m--> 510\u001b[0;31m         \u001b[0mFigureCanvasAgg\u001b[0m\u001b[0;34m.\u001b[0m\u001b[0mdraw\u001b[0m\u001b[0;34m(\u001b[0m\u001b[0mself\u001b[0m\u001b[0;34m)\u001b[0m\u001b[0;34m\u001b[0m\u001b[0m\n\u001b[0m\u001b[1;32m    511\u001b[0m         \u001b[0mrenderer\u001b[0m \u001b[0;34m=\u001b[0m \u001b[0mself\u001b[0m\u001b[0;34m.\u001b[0m\u001b[0mget_renderer\u001b[0m\u001b[0;34m(\u001b[0m\u001b[0;34m)\u001b[0m\u001b[0;34m\u001b[0m\u001b[0m\n\u001b[1;32m    512\u001b[0m \u001b[0;34m\u001b[0m\u001b[0m\n",
      "\u001b[0;32m~/projects/stlcg_karen/stlcg-env/lib/python3.5/site-packages/matplotlib/backends/backend_agg.py\u001b[0m in \u001b[0;36mdraw\u001b[0;34m(self)\u001b[0m\n\u001b[1;32m    400\u001b[0m         \u001b[0mtoolbar\u001b[0m \u001b[0;34m=\u001b[0m \u001b[0mself\u001b[0m\u001b[0;34m.\u001b[0m\u001b[0mtoolbar\u001b[0m\u001b[0;34m\u001b[0m\u001b[0m\n\u001b[1;32m    401\u001b[0m         \u001b[0;32mtry\u001b[0m\u001b[0;34m:\u001b[0m\u001b[0;34m\u001b[0m\u001b[0m\n\u001b[0;32m--> 402\u001b[0;31m             \u001b[0mself\u001b[0m\u001b[0;34m.\u001b[0m\u001b[0mfigure\u001b[0m\u001b[0;34m.\u001b[0m\u001b[0mdraw\u001b[0m\u001b[0;34m(\u001b[0m\u001b[0mself\u001b[0m\u001b[0;34m.\u001b[0m\u001b[0mrenderer\u001b[0m\u001b[0;34m)\u001b[0m\u001b[0;34m\u001b[0m\u001b[0m\n\u001b[0m\u001b[1;32m    403\u001b[0m             \u001b[0;31m# A GUI class may be need to update a window using this draw, so\u001b[0m\u001b[0;34m\u001b[0m\u001b[0;34m\u001b[0m\u001b[0m\n\u001b[1;32m    404\u001b[0m             \u001b[0;31m# don't forget to call the superclass.\u001b[0m\u001b[0;34m\u001b[0m\u001b[0;34m\u001b[0m\u001b[0m\n",
      "\u001b[0;32m~/projects/stlcg_karen/stlcg-env/lib/python3.5/site-packages/matplotlib/artist.py\u001b[0m in \u001b[0;36mdraw_wrapper\u001b[0;34m(artist, renderer, *args, **kwargs)\u001b[0m\n\u001b[1;32m     48\u001b[0m                 \u001b[0mrenderer\u001b[0m\u001b[0;34m.\u001b[0m\u001b[0mstart_filter\u001b[0m\u001b[0;34m(\u001b[0m\u001b[0;34m)\u001b[0m\u001b[0;34m\u001b[0m\u001b[0m\n\u001b[1;32m     49\u001b[0m \u001b[0;34m\u001b[0m\u001b[0m\n\u001b[0;32m---> 50\u001b[0;31m             \u001b[0;32mreturn\u001b[0m \u001b[0mdraw\u001b[0m\u001b[0;34m(\u001b[0m\u001b[0martist\u001b[0m\u001b[0;34m,\u001b[0m \u001b[0mrenderer\u001b[0m\u001b[0;34m,\u001b[0m \u001b[0;34m*\u001b[0m\u001b[0margs\u001b[0m\u001b[0;34m,\u001b[0m \u001b[0;34m**\u001b[0m\u001b[0mkwargs\u001b[0m\u001b[0;34m)\u001b[0m\u001b[0;34m\u001b[0m\u001b[0m\n\u001b[0m\u001b[1;32m     51\u001b[0m         \u001b[0;32mfinally\u001b[0m\u001b[0;34m:\u001b[0m\u001b[0;34m\u001b[0m\u001b[0m\n\u001b[1;32m     52\u001b[0m             \u001b[0;32mif\u001b[0m \u001b[0martist\u001b[0m\u001b[0;34m.\u001b[0m\u001b[0mget_agg_filter\u001b[0m\u001b[0;34m(\u001b[0m\u001b[0;34m)\u001b[0m \u001b[0;32mis\u001b[0m \u001b[0;32mnot\u001b[0m \u001b[0;32mNone\u001b[0m\u001b[0;34m:\u001b[0m\u001b[0;34m\u001b[0m\u001b[0m\n",
      "\u001b[0;32m~/projects/stlcg_karen/stlcg-env/lib/python3.5/site-packages/matplotlib/figure.py\u001b[0m in \u001b[0;36mdraw\u001b[0;34m(self, renderer)\u001b[0m\n\u001b[1;32m   1650\u001b[0m \u001b[0;34m\u001b[0m\u001b[0m\n\u001b[1;32m   1651\u001b[0m             mimage._draw_list_compositing_images(\n\u001b[0;32m-> 1652\u001b[0;31m                 renderer, self, artists, self.suppressComposite)\n\u001b[0m\u001b[1;32m   1653\u001b[0m \u001b[0;34m\u001b[0m\u001b[0m\n\u001b[1;32m   1654\u001b[0m             \u001b[0mrenderer\u001b[0m\u001b[0;34m.\u001b[0m\u001b[0mclose_group\u001b[0m\u001b[0;34m(\u001b[0m\u001b[0;34m'figure'\u001b[0m\u001b[0;34m)\u001b[0m\u001b[0;34m\u001b[0m\u001b[0m\n",
      "\u001b[0;32m~/projects/stlcg_karen/stlcg-env/lib/python3.5/site-packages/matplotlib/image.py\u001b[0m in \u001b[0;36m_draw_list_compositing_images\u001b[0;34m(renderer, parent, artists, suppress_composite)\u001b[0m\n\u001b[1;32m    136\u001b[0m     \u001b[0;32mif\u001b[0m \u001b[0mnot_composite\u001b[0m \u001b[0;32mor\u001b[0m \u001b[0;32mnot\u001b[0m \u001b[0mhas_images\u001b[0m\u001b[0;34m:\u001b[0m\u001b[0;34m\u001b[0m\u001b[0m\n\u001b[1;32m    137\u001b[0m         \u001b[0;32mfor\u001b[0m \u001b[0ma\u001b[0m \u001b[0;32min\u001b[0m \u001b[0martists\u001b[0m\u001b[0;34m:\u001b[0m\u001b[0;34m\u001b[0m\u001b[0m\n\u001b[0;32m--> 138\u001b[0;31m             \u001b[0ma\u001b[0m\u001b[0;34m.\u001b[0m\u001b[0mdraw\u001b[0m\u001b[0;34m(\u001b[0m\u001b[0mrenderer\u001b[0m\u001b[0;34m)\u001b[0m\u001b[0;34m\u001b[0m\u001b[0m\n\u001b[0m\u001b[1;32m    139\u001b[0m     \u001b[0;32melse\u001b[0m\u001b[0;34m:\u001b[0m\u001b[0;34m\u001b[0m\u001b[0m\n\u001b[1;32m    140\u001b[0m         \u001b[0;31m# Composite any adjacent images together\u001b[0m\u001b[0;34m\u001b[0m\u001b[0;34m\u001b[0m\u001b[0m\n",
      "\u001b[0;32m~/projects/stlcg_karen/stlcg-env/lib/python3.5/site-packages/matplotlib/artist.py\u001b[0m in \u001b[0;36mdraw_wrapper\u001b[0;34m(artist, renderer, *args, **kwargs)\u001b[0m\n\u001b[1;32m     48\u001b[0m                 \u001b[0mrenderer\u001b[0m\u001b[0;34m.\u001b[0m\u001b[0mstart_filter\u001b[0m\u001b[0;34m(\u001b[0m\u001b[0;34m)\u001b[0m\u001b[0;34m\u001b[0m\u001b[0m\n\u001b[1;32m     49\u001b[0m \u001b[0;34m\u001b[0m\u001b[0m\n\u001b[0;32m---> 50\u001b[0;31m             \u001b[0;32mreturn\u001b[0m \u001b[0mdraw\u001b[0m\u001b[0;34m(\u001b[0m\u001b[0martist\u001b[0m\u001b[0;34m,\u001b[0m \u001b[0mrenderer\u001b[0m\u001b[0;34m,\u001b[0m \u001b[0;34m*\u001b[0m\u001b[0margs\u001b[0m\u001b[0;34m,\u001b[0m \u001b[0;34m**\u001b[0m\u001b[0mkwargs\u001b[0m\u001b[0;34m)\u001b[0m\u001b[0;34m\u001b[0m\u001b[0m\n\u001b[0m\u001b[1;32m     51\u001b[0m         \u001b[0;32mfinally\u001b[0m\u001b[0;34m:\u001b[0m\u001b[0;34m\u001b[0m\u001b[0m\n\u001b[1;32m     52\u001b[0m             \u001b[0;32mif\u001b[0m \u001b[0martist\u001b[0m\u001b[0;34m.\u001b[0m\u001b[0mget_agg_filter\u001b[0m\u001b[0;34m(\u001b[0m\u001b[0;34m)\u001b[0m \u001b[0;32mis\u001b[0m \u001b[0;32mnot\u001b[0m \u001b[0;32mNone\u001b[0m\u001b[0;34m:\u001b[0m\u001b[0;34m\u001b[0m\u001b[0m\n",
      "\u001b[0;32m~/projects/stlcg_karen/stlcg-env/lib/python3.5/site-packages/matplotlib/axes/_base.py\u001b[0m in \u001b[0;36mdraw\u001b[0;34m(self, renderer, inframe)\u001b[0m\n\u001b[1;32m   2602\u001b[0m             \u001b[0mrenderer\u001b[0m\u001b[0;34m.\u001b[0m\u001b[0mstop_rasterizing\u001b[0m\u001b[0;34m(\u001b[0m\u001b[0;34m)\u001b[0m\u001b[0;34m\u001b[0m\u001b[0m\n\u001b[1;32m   2603\u001b[0m \u001b[0;34m\u001b[0m\u001b[0m\n\u001b[0;32m-> 2604\u001b[0;31m         \u001b[0mmimage\u001b[0m\u001b[0;34m.\u001b[0m\u001b[0m_draw_list_compositing_images\u001b[0m\u001b[0;34m(\u001b[0m\u001b[0mrenderer\u001b[0m\u001b[0;34m,\u001b[0m \u001b[0mself\u001b[0m\u001b[0;34m,\u001b[0m \u001b[0martists\u001b[0m\u001b[0;34m)\u001b[0m\u001b[0;34m\u001b[0m\u001b[0m\n\u001b[0m\u001b[1;32m   2605\u001b[0m \u001b[0;34m\u001b[0m\u001b[0m\n\u001b[1;32m   2606\u001b[0m         \u001b[0mrenderer\u001b[0m\u001b[0;34m.\u001b[0m\u001b[0mclose_group\u001b[0m\u001b[0;34m(\u001b[0m\u001b[0;34m'axes'\u001b[0m\u001b[0;34m)\u001b[0m\u001b[0;34m\u001b[0m\u001b[0m\n",
      "\u001b[0;32m~/projects/stlcg_karen/stlcg-env/lib/python3.5/site-packages/matplotlib/image.py\u001b[0m in \u001b[0;36m_draw_list_compositing_images\u001b[0;34m(renderer, parent, artists, suppress_composite)\u001b[0m\n\u001b[1;32m    136\u001b[0m     \u001b[0;32mif\u001b[0m \u001b[0mnot_composite\u001b[0m \u001b[0;32mor\u001b[0m \u001b[0;32mnot\u001b[0m \u001b[0mhas_images\u001b[0m\u001b[0;34m:\u001b[0m\u001b[0;34m\u001b[0m\u001b[0m\n\u001b[1;32m    137\u001b[0m         \u001b[0;32mfor\u001b[0m \u001b[0ma\u001b[0m \u001b[0;32min\u001b[0m \u001b[0martists\u001b[0m\u001b[0;34m:\u001b[0m\u001b[0;34m\u001b[0m\u001b[0m\n\u001b[0;32m--> 138\u001b[0;31m             \u001b[0ma\u001b[0m\u001b[0;34m.\u001b[0m\u001b[0mdraw\u001b[0m\u001b[0;34m(\u001b[0m\u001b[0mrenderer\u001b[0m\u001b[0;34m)\u001b[0m\u001b[0;34m\u001b[0m\u001b[0m\n\u001b[0m\u001b[1;32m    139\u001b[0m     \u001b[0;32melse\u001b[0m\u001b[0;34m:\u001b[0m\u001b[0;34m\u001b[0m\u001b[0m\n\u001b[1;32m    140\u001b[0m         \u001b[0;31m# Composite any adjacent images together\u001b[0m\u001b[0;34m\u001b[0m\u001b[0;34m\u001b[0m\u001b[0m\n",
      "\u001b[0;32m~/projects/stlcg_karen/stlcg-env/lib/python3.5/site-packages/matplotlib/artist.py\u001b[0m in \u001b[0;36mdraw_wrapper\u001b[0;34m(artist, renderer, *args, **kwargs)\u001b[0m\n\u001b[1;32m     48\u001b[0m                 \u001b[0mrenderer\u001b[0m\u001b[0;34m.\u001b[0m\u001b[0mstart_filter\u001b[0m\u001b[0;34m(\u001b[0m\u001b[0;34m)\u001b[0m\u001b[0;34m\u001b[0m\u001b[0m\n\u001b[1;32m     49\u001b[0m \u001b[0;34m\u001b[0m\u001b[0m\n\u001b[0;32m---> 50\u001b[0;31m             \u001b[0;32mreturn\u001b[0m \u001b[0mdraw\u001b[0m\u001b[0;34m(\u001b[0m\u001b[0martist\u001b[0m\u001b[0;34m,\u001b[0m \u001b[0mrenderer\u001b[0m\u001b[0;34m,\u001b[0m \u001b[0;34m*\u001b[0m\u001b[0margs\u001b[0m\u001b[0;34m,\u001b[0m \u001b[0;34m**\u001b[0m\u001b[0mkwargs\u001b[0m\u001b[0;34m)\u001b[0m\u001b[0;34m\u001b[0m\u001b[0m\n\u001b[0m\u001b[1;32m     51\u001b[0m         \u001b[0;32mfinally\u001b[0m\u001b[0;34m:\u001b[0m\u001b[0;34m\u001b[0m\u001b[0m\n\u001b[1;32m     52\u001b[0m             \u001b[0;32mif\u001b[0m \u001b[0martist\u001b[0m\u001b[0;34m.\u001b[0m\u001b[0mget_agg_filter\u001b[0m\u001b[0;34m(\u001b[0m\u001b[0;34m)\u001b[0m \u001b[0;32mis\u001b[0m \u001b[0;32mnot\u001b[0m \u001b[0;32mNone\u001b[0m\u001b[0;34m:\u001b[0m\u001b[0;34m\u001b[0m\u001b[0m\n",
      "\u001b[0;32m~/projects/stlcg_karen/stlcg-env/lib/python3.5/site-packages/matplotlib/axis.py\u001b[0m in \u001b[0;36mdraw\u001b[0;34m(self, renderer, *args, **kwargs)\u001b[0m\n\u001b[1;32m   1188\u001b[0m \u001b[0;34m\u001b[0m\u001b[0m\n\u001b[1;32m   1189\u001b[0m         \u001b[0;32mfor\u001b[0m \u001b[0mtick\u001b[0m \u001b[0;32min\u001b[0m \u001b[0mticks_to_draw\u001b[0m\u001b[0;34m:\u001b[0m\u001b[0;34m\u001b[0m\u001b[0m\n\u001b[0;32m-> 1190\u001b[0;31m             \u001b[0mtick\u001b[0m\u001b[0;34m.\u001b[0m\u001b[0mdraw\u001b[0m\u001b[0;34m(\u001b[0m\u001b[0mrenderer\u001b[0m\u001b[0;34m)\u001b[0m\u001b[0;34m\u001b[0m\u001b[0m\n\u001b[0m\u001b[1;32m   1191\u001b[0m \u001b[0;34m\u001b[0m\u001b[0m\n\u001b[1;32m   1192\u001b[0m         \u001b[0;31m# scale up the axis label box to also find the neighbors, not\u001b[0m\u001b[0;34m\u001b[0m\u001b[0;34m\u001b[0m\u001b[0m\n",
      "\u001b[0;32m~/projects/stlcg_karen/stlcg-env/lib/python3.5/site-packages/matplotlib/artist.py\u001b[0m in \u001b[0;36mdraw_wrapper\u001b[0;34m(artist, renderer, *args, **kwargs)\u001b[0m\n\u001b[1;32m     48\u001b[0m                 \u001b[0mrenderer\u001b[0m\u001b[0;34m.\u001b[0m\u001b[0mstart_filter\u001b[0m\u001b[0;34m(\u001b[0m\u001b[0;34m)\u001b[0m\u001b[0;34m\u001b[0m\u001b[0m\n\u001b[1;32m     49\u001b[0m \u001b[0;34m\u001b[0m\u001b[0m\n\u001b[0;32m---> 50\u001b[0;31m             \u001b[0;32mreturn\u001b[0m \u001b[0mdraw\u001b[0m\u001b[0;34m(\u001b[0m\u001b[0martist\u001b[0m\u001b[0;34m,\u001b[0m \u001b[0mrenderer\u001b[0m\u001b[0;34m,\u001b[0m \u001b[0;34m*\u001b[0m\u001b[0margs\u001b[0m\u001b[0;34m,\u001b[0m \u001b[0;34m**\u001b[0m\u001b[0mkwargs\u001b[0m\u001b[0;34m)\u001b[0m\u001b[0;34m\u001b[0m\u001b[0m\n\u001b[0m\u001b[1;32m     51\u001b[0m         \u001b[0;32mfinally\u001b[0m\u001b[0;34m:\u001b[0m\u001b[0;34m\u001b[0m\u001b[0m\n\u001b[1;32m     52\u001b[0m             \u001b[0;32mif\u001b[0m \u001b[0martist\u001b[0m\u001b[0;34m.\u001b[0m\u001b[0mget_agg_filter\u001b[0m\u001b[0;34m(\u001b[0m\u001b[0;34m)\u001b[0m \u001b[0;32mis\u001b[0m \u001b[0;32mnot\u001b[0m \u001b[0;32mNone\u001b[0m\u001b[0;34m:\u001b[0m\u001b[0;34m\u001b[0m\u001b[0m\n",
      "\u001b[0;32m~/projects/stlcg_karen/stlcg-env/lib/python3.5/site-packages/matplotlib/axis.py\u001b[0m in \u001b[0;36mdraw\u001b[0;34m(self, renderer)\u001b[0m\n\u001b[1;32m    302\u001b[0m \u001b[0;34m\u001b[0m\u001b[0m\n\u001b[1;32m    303\u001b[0m         \u001b[0;32mif\u001b[0m \u001b[0mself\u001b[0m\u001b[0;34m.\u001b[0m\u001b[0mlabel1On\u001b[0m\u001b[0;34m:\u001b[0m\u001b[0;34m\u001b[0m\u001b[0m\n\u001b[0;32m--> 304\u001b[0;31m             \u001b[0mself\u001b[0m\u001b[0;34m.\u001b[0m\u001b[0mlabel1\u001b[0m\u001b[0;34m.\u001b[0m\u001b[0mdraw\u001b[0m\u001b[0;34m(\u001b[0m\u001b[0mrenderer\u001b[0m\u001b[0;34m)\u001b[0m\u001b[0;34m\u001b[0m\u001b[0m\n\u001b[0m\u001b[1;32m    305\u001b[0m         \u001b[0;32mif\u001b[0m \u001b[0mself\u001b[0m\u001b[0;34m.\u001b[0m\u001b[0mlabel2On\u001b[0m\u001b[0;34m:\u001b[0m\u001b[0;34m\u001b[0m\u001b[0m\n\u001b[1;32m    306\u001b[0m             \u001b[0mself\u001b[0m\u001b[0;34m.\u001b[0m\u001b[0mlabel2\u001b[0m\u001b[0;34m.\u001b[0m\u001b[0mdraw\u001b[0m\u001b[0;34m(\u001b[0m\u001b[0mrenderer\u001b[0m\u001b[0;34m)\u001b[0m\u001b[0;34m\u001b[0m\u001b[0m\n",
      "\u001b[0;32m~/projects/stlcg_karen/stlcg-env/lib/python3.5/site-packages/matplotlib/artist.py\u001b[0m in \u001b[0;36mdraw_wrapper\u001b[0;34m(artist, renderer, *args, **kwargs)\u001b[0m\n\u001b[1;32m     48\u001b[0m                 \u001b[0mrenderer\u001b[0m\u001b[0;34m.\u001b[0m\u001b[0mstart_filter\u001b[0m\u001b[0;34m(\u001b[0m\u001b[0;34m)\u001b[0m\u001b[0;34m\u001b[0m\u001b[0m\n\u001b[1;32m     49\u001b[0m \u001b[0;34m\u001b[0m\u001b[0m\n\u001b[0;32m---> 50\u001b[0;31m             \u001b[0;32mreturn\u001b[0m \u001b[0mdraw\u001b[0m\u001b[0;34m(\u001b[0m\u001b[0martist\u001b[0m\u001b[0;34m,\u001b[0m \u001b[0mrenderer\u001b[0m\u001b[0;34m,\u001b[0m \u001b[0;34m*\u001b[0m\u001b[0margs\u001b[0m\u001b[0;34m,\u001b[0m \u001b[0;34m**\u001b[0m\u001b[0mkwargs\u001b[0m\u001b[0;34m)\u001b[0m\u001b[0;34m\u001b[0m\u001b[0m\n\u001b[0m\u001b[1;32m     51\u001b[0m         \u001b[0;32mfinally\u001b[0m\u001b[0;34m:\u001b[0m\u001b[0;34m\u001b[0m\u001b[0m\n\u001b[1;32m     52\u001b[0m             \u001b[0;32mif\u001b[0m \u001b[0martist\u001b[0m\u001b[0;34m.\u001b[0m\u001b[0mget_agg_filter\u001b[0m\u001b[0;34m(\u001b[0m\u001b[0;34m)\u001b[0m \u001b[0;32mis\u001b[0m \u001b[0;32mnot\u001b[0m \u001b[0;32mNone\u001b[0m\u001b[0;34m:\u001b[0m\u001b[0;34m\u001b[0m\u001b[0m\n",
      "\u001b[0;32m~/projects/stlcg_karen/stlcg-env/lib/python3.5/site-packages/matplotlib/text.py\u001b[0m in \u001b[0;36mdraw\u001b[0;34m(self, renderer)\u001b[0m\n\u001b[1;32m    706\u001b[0m         \u001b[0mrenderer\u001b[0m\u001b[0;34m.\u001b[0m\u001b[0mopen_group\u001b[0m\u001b[0;34m(\u001b[0m\u001b[0;34m'text'\u001b[0m\u001b[0;34m,\u001b[0m \u001b[0mself\u001b[0m\u001b[0;34m.\u001b[0m\u001b[0mget_gid\u001b[0m\u001b[0;34m(\u001b[0m\u001b[0;34m)\u001b[0m\u001b[0;34m)\u001b[0m\u001b[0;34m\u001b[0m\u001b[0m\n\u001b[1;32m    707\u001b[0m \u001b[0;34m\u001b[0m\u001b[0m\n\u001b[0;32m--> 708\u001b[0;31m         \u001b[0;32mwith\u001b[0m \u001b[0m_wrap_text\u001b[0m\u001b[0;34m(\u001b[0m\u001b[0mself\u001b[0m\u001b[0;34m)\u001b[0m \u001b[0;32mas\u001b[0m \u001b[0mtextobj\u001b[0m\u001b[0;34m:\u001b[0m\u001b[0;34m\u001b[0m\u001b[0m\n\u001b[0m\u001b[1;32m    709\u001b[0m             \u001b[0mbbox\u001b[0m\u001b[0;34m,\u001b[0m \u001b[0minfo\u001b[0m\u001b[0;34m,\u001b[0m \u001b[0mdescent\u001b[0m \u001b[0;34m=\u001b[0m \u001b[0mtextobj\u001b[0m\u001b[0;34m.\u001b[0m\u001b[0m_get_layout\u001b[0m\u001b[0;34m(\u001b[0m\u001b[0mrenderer\u001b[0m\u001b[0;34m)\u001b[0m\u001b[0;34m\u001b[0m\u001b[0m\n\u001b[1;32m    710\u001b[0m             \u001b[0mtrans\u001b[0m \u001b[0;34m=\u001b[0m \u001b[0mtextobj\u001b[0m\u001b[0;34m.\u001b[0m\u001b[0mget_transform\u001b[0m\u001b[0;34m(\u001b[0m\u001b[0;34m)\u001b[0m\u001b[0;34m\u001b[0m\u001b[0m\n",
      "\u001b[0;32m/usr/lib/python3.5/contextlib.py\u001b[0m in \u001b[0;36mhelper\u001b[0;34m(*args, **kwds)\u001b[0m\n\u001b[1;32m    129\u001b[0m \u001b[0;34m\u001b[0m\u001b[0m\n\u001b[1;32m    130\u001b[0m     \"\"\"\n\u001b[0;32m--> 131\u001b[0;31m     \u001b[0;34m@\u001b[0m\u001b[0mwraps\u001b[0m\u001b[0;34m(\u001b[0m\u001b[0mfunc\u001b[0m\u001b[0;34m)\u001b[0m\u001b[0;34m\u001b[0m\u001b[0m\n\u001b[0m\u001b[1;32m    132\u001b[0m     \u001b[0;32mdef\u001b[0m \u001b[0mhelper\u001b[0m\u001b[0;34m(\u001b[0m\u001b[0;34m*\u001b[0m\u001b[0margs\u001b[0m\u001b[0;34m,\u001b[0m \u001b[0;34m**\u001b[0m\u001b[0mkwds\u001b[0m\u001b[0;34m)\u001b[0m\u001b[0;34m:\u001b[0m\u001b[0;34m\u001b[0m\u001b[0m\n\u001b[1;32m    133\u001b[0m         \u001b[0;32mreturn\u001b[0m \u001b[0m_GeneratorContextManager\u001b[0m\u001b[0;34m(\u001b[0m\u001b[0mfunc\u001b[0m\u001b[0;34m,\u001b[0m \u001b[0margs\u001b[0m\u001b[0;34m,\u001b[0m \u001b[0mkwds\u001b[0m\u001b[0;34m)\u001b[0m\u001b[0;34m\u001b[0m\u001b[0m\n",
      "\u001b[0;31mKeyboardInterrupt\u001b[0m: "
     ]
    },
    {
     "data": {
      "image/png": "[encoded data removed]",
      "text/plain": [
       "<Figure size 720x720 with 1 Axes>"
      ]
     },
     "metadata": {
      "needs_background": "light"
     },
     "output_type": "display_data"
    }
   ],
   "source": [
    "##### hyperparameters #####\n",
    "γ = 0.1\n",
    "lr = 0.05\n",
    "margin = .5 # can add a margin so things are not right on the boundary\n",
    "keepdim = True\n",
    "scale = 100\n",
    "agm = False\n",
    "use_relu = False\n",
    "###########################\n",
    "fig_path = \"experiments/integral/figs\"\n",
    "for _ in range(5000):\n",
    "#     optimizer.zero_grad()\n",
    "#     scale = 1.0 + _/5000 * 50\n",
    "    X = Z[:N[0]*N[1]].reshape(N[0], N[1])\n",
    "    U = Z[N[0]*N[1]:(N[0]*N[1] + (N[0]-1)*N[1])].reshape(N[0]-1,N[1])\n",
    "    ux = U[:,:1]\n",
    "    uy = U[:,1:]\n",
    "    \n",
    "    box_inputs = ((x, x),(y, y)) # changes as Z changes (points to the Z tensor)\n",
    "    control_inputs = U.norm(dim=1, keepdim=True).unsqueeze(0)\n",
    "    \n",
    "    robustness_1 = torch.relu(-(ϕ1.robustness(box_inputs, scale=scale, keepdim=keepdim, agm=agm, use_relu=use_relu).squeeze() - margin) )\n",
    "#     robustness_1 = torch.relu(-(ϕ2.robustness(box_inputs, scale=scale, keepdim=keepdim, agm=agm).squeeze() - margin) )\n",
    "\n",
    "    robustness_2 = -θ.robustness(control_inputs, scale=-1, keepdim=keepdim).squeeze()\n",
    "\n",
    "    robustness = robustness_1 + γ*robustness_2\n",
    "\n",
    "    cont = (torch.matmul(EE, Z) - CC).pow(2).sum()\n",
    "    \n",
    "    loss = cont + γ*robustness \n",
    "    loss.backward()\n",
    "    with torch.no_grad():\n",
    "        Z -= lr* Z.grad\n",
    "    \n",
    "    if _ % 100 == 0:\n",
    "        xy = Z[:N[0]*N[1]].reshape(N[0],N[1])\n",
    "        u = Z[N[0]*N[1]:(N[0]*N[1] + (N[0]-1)*N[1]) ].reshape(N[0]-1,N[1])\n",
    "        # plt.scatter(past.detach().numpy()[:,0], past.detach().numpy()[:,1])\n",
    "        plt.figure(figsize=(10,10))\n",
    "        plt.plot([obs_1[0], obs_1[0], obs_1[1], obs_1[1], obs_1[0]], [obs_1[2], obs_1[3], obs_1[3], obs_1[2], obs_1[2]], c=\"red\", linewidth=5)\n",
    "        plt.plot(xy.detach().numpy()[:,0], xy.detach().numpy()[:,1], c=\"black\")\n",
    "        plt.scatter(xy.detach().numpy()[:,0], xy.detach().numpy()[:,1], c=\"black\", s=100)\n",
    "        plt.scatter([-1,1], [-1,1], s=300)\n",
    "        plt.axis(\"equal\")\n",
    "\n",
    "\n",
    "        xs = [x0]\n",
    "        us = u.detach().numpy()\n",
    "        for i in range(33):\n",
    "            x_next = A @ xs[i] + B @ us[i]\n",
    "            xs.append(x_next)\n",
    "        xs = np.stack(xs)\n",
    "        plt.plot(xs[:,0], xs[:,1])\n",
    "        plt.scatter(xs[:,0], xs[:,1], c=\"lightblue\")\n",
    "        plt.grid()\n",
    "        plt.savefig(fig_path + \"/\" + str(_).rjust(4, '0') + \".png\")\n",
    "        print(\"%i: loss: %.3f   robustness_1: %.3f     robustness_2: %.3f     cont: %.6f\"%(_, loss.detach().numpy(), robustness_1.detach().numpy(),  robustness_2.detach().numpy(), cont.detach().numpy()))\n",
    "        plt.close()\n",
    "#     if (robustness < 1E-2) & (cont < 1E-6):\n",
    "#         print(\"FINISHED!\")\n",
    "#         break\n",
    "    Z.grad.zero_()"
   ]
  },
  {
   "cell_type": "code",
   "execution_count": 177,
   "metadata": {},
   "outputs": [],
   "source": [
    "data_path = \"experiments/integral\"\n",
    "\n",
    "np.save(data_path + \"/X_integral.npy\", X.detach().numpy())\n",
    "np.save(data_path + \"/U_integral.npy\", U.detach().numpy())"
   ]
  },
  {
   "cell_type": "code",
   "execution_count": 185,
   "metadata": {},
   "outputs": [],
   "source": [
    "data_path = \"experiments/integral\"\n",
    "\n",
    "np.save(data_path + \"/X_always.npy\", X.detach().numpy())\n",
    "np.save(data_path + \"/U_always.npy\", U.detach().numpy())"
   ]
  },
  {
   "cell_type": "code",
   "execution_count": 186,
   "metadata": {},
   "outputs": [],
   "source": [
    "x_integral = np.load(data_path + \"/X_integral.npy\")\n",
    "x_always = np.load(data_path + \"/X_always.npy\")"
   ]
  },
  {
   "cell_type": "code",
   "execution_count": 189,
   "metadata": {},
   "outputs": [
    {
     "data": {
      "image/png": "[encoded data removed]",
      "text/plain": [
       "<Figure size 720x720 with 1 Axes>"
      ]
     },
     "metadata": {
      "needs_background": "light"
     },
     "output_type": "display_data"
    }
   ],
   "source": [
    "plt.figure(figsize=(10,10))\n",
    "plt.plot([obs_1[0], obs_1[0], obs_1[1], obs_1[1], obs_1[0]], [obs_1[2], obs_1[3], obs_1[3], obs_1[2], obs_1[2]], c=\"red\", linewidth=5)\n",
    "plt.scatter(*x0, s=300, c=\"red\")\n",
    "plt.scatter(*xf, s=800, marker='*', c=\"red\")\n",
    "\n",
    "x = x_integral[:,0]\n",
    "y = x_integral[:,1]\n",
    "plt.plot(x, y)\n",
    "plt.scatter(x, y)\n",
    "\n",
    "x = x_always[:,0]\n",
    "y = x_always[:,1]\n",
    "plt.plot(x, y)\n",
    "plt.scatter(x, y)\n",
    "\n",
    "plt.axis(\"equal\")\n",
    "plt.grid()\n"
   ]
  },
  {
   "cell_type": "code",
   "execution_count": 73,
   "metadata": {},
   "outputs": [
    {
     "data": {
      "image/png": "[encoded data removed]",
      "text/plain": [
       "<Figure size 1080x360 with 1 Axes>"
      ]
     },
     "metadata": {
      "needs_background": "light"
     },
     "output_type": "display_data"
    }
   ],
   "source": [
    "plt.figure(figsize=(15,5))\n",
    "\n",
    "x = x_integral[:,0]\n",
    "y = x_integral[:,1]\n",
    "plt.plot(x)\n",
    "# plt.scatter(x, y)\n",
    "\n",
    "x = x_always[:,0]\n",
    "y = x_always[:,1]\n",
    "plt.plot(x)\n",
    "# plt.scatter(x, y)\n",
    "plt.grid()"
   ]
  },
  {
   "cell_type": "code",
   "execution_count": 191,
   "metadata": {},
   "outputs": [],
   "source": [
    "m = stlcg.Maxish()"
   ]
  },
  {
   "cell_type": "code",
   "execution_count": 217,
   "metadata": {},
   "outputs": [],
   "source": [
    "x = torch.tensor([1.0, 1.0, 0.5]).requires_grad_(True)"
   ]
  },
  {
   "cell_type": "code",
   "execution_count": 218,
   "metadata": {},
   "outputs": [
    {
     "data": {
      "text/plain": [
       "tensor([0.8837], grad_fn=<SumBackward1>)"
      ]
     },
     "execution_count": 218,
     "metadata": {},
     "output_type": "execute_result"
    }
   ],
   "source": [
    "m(x, scale=1, dim=0)"
   ]
  },
  {
   "cell_type": "code",
   "execution_count": 219,
   "metadata": {},
   "outputs": [],
   "source": [
    "y = m(x, scale=-1, dim=0)"
   ]
  },
  {
   "cell_type": "code",
   "execution_count": 220,
   "metadata": {},
   "outputs": [
    {
     "name": "stdout",
     "output_type": "stream",
     "text": [
      "tensor([0., 1., 0.])\n"
     ]
    }
   ],
   "source": [
    "y.backward()\n",
    "with torch.no_grad():\n",
    "    print(x.grad)\n"
   ]
  },
  {
   "cell_type": "code",
   "execution_count": 246,
   "metadata": {},
   "outputs": [
    {
     "data": {
      "text/plain": [
       "tensor([[[6.1705e-05],\n",
       "         [1.9683e-04],\n",
       "         [5.7962e-04],\n",
       "         [1.5756e-03],\n",
       "         [3.9535e-03],\n",
       "         [9.1578e-03],\n",
       "         [1.9582e-02],\n",
       "         [3.8652e-02],\n",
       "         [7.0429e-02],\n",
       "         [1.1846e-01],\n",
       "         [1.8394e-01],\n",
       "         [2.6365e-01],\n",
       "         [3.4884e-01],\n",
       "         [4.2607e-01],\n",
       "         [4.8039e-01],\n",
       "         [5.0000e-01],\n",
       "         [4.8039e-01],\n",
       "         [4.2607e-01],\n",
       "         [3.4884e-01],\n",
       "         [2.6365e-01],\n",
       "         [1.8394e-01],\n",
       "         [1.1846e-01],\n",
       "         [7.0429e-02],\n",
       "         [3.8652e-02],\n",
       "         [1.9582e-02],\n",
       "         [9.1578e-03],\n",
       "         [3.9535e-03],\n",
       "         [1.5755e-03],\n",
       "         [5.7961e-04],\n",
       "         [1.9683e-04]]])"
      ]
     },
     "execution_count": 246,
     "metadata": {},
     "output_type": "execute_result"
    }
   ],
   "source": [
    "x"
   ]
  },
  {
   "cell_type": "code",
   "execution_count": 231,
   "metadata": {},
   "outputs": [],
   "source": [
    "rnn_dim = 5"
   ]
  },
  {
   "cell_type": "code",
   "execution_count": 306,
   "metadata": {},
   "outputs": [],
   "source": [
    "xx = torch.cat([x, x], dim=-1)"
   ]
  },
  {
   "cell_type": "code",
   "execution_count": 316,
   "metadata": {},
   "outputs": [
    {
     "data": {
      "text/plain": [
       "(tensor([[[0.0062, 0.0062],\n",
       "          [0.0197, 0.0197],\n",
       "          [0.0580, 0.0580],\n",
       "          [0.1576, 0.1576],\n",
       "          [0.3954, 0.3954]]]), tensor([[[6.1705e-05, 6.1705e-05]]]))"
      ]
     },
     "execution_count": 316,
     "metadata": {},
     "output_type": "execute_result"
    }
   ],
   "source": [
    "h0 = xx[:,:5,:]*100\n",
    "z = xx[:,:1,:]\n",
    "h0, z"
   ]
  },
  {
   "cell_type": "code",
   "execution_count": 317,
   "metadata": {},
   "outputs": [],
   "source": [
    "M = torch.tensor(np.diag(np.ones(rnn_dim-1), k=1)).requires_grad_(False).float()\n",
    "b = torch.zeros(rnn_dim).unsqueeze(-1)\n",
    "b[-1] = 1.0"
   ]
  },
  {
   "cell_type": "code",
   "execution_count": 318,
   "metadata": {},
   "outputs": [
    {
     "data": {
      "text/plain": [
       "tensor([[0., 1., 0., 0., 0.],\n",
       "        [0., 0., 1., 0., 0.],\n",
       "        [0., 0., 0., 1., 0.],\n",
       "        [0., 0., 0., 0., 1.],\n",
       "        [0., 0., 0., 0., 0.]])"
      ]
     },
     "execution_count": 318,
     "metadata": {},
     "output_type": "execute_result"
    }
   ],
   "source": [
    "M"
   ]
  },
  {
   "cell_type": "code",
   "execution_count": 319,
   "metadata": {},
   "outputs": [
    {
     "data": {
      "text/plain": [
       "torch.Size([1, 5, 2])"
      ]
     },
     "execution_count": 319,
     "metadata": {},
     "output_type": "execute_result"
    }
   ],
   "source": [
    "torch.matmul(M , h0).shape"
   ]
  },
  {
   "cell_type": "code",
   "execution_count": 320,
   "metadata": {},
   "outputs": [
    {
     "data": {
      "text/plain": [
       "torch.Size([1, 5, 2])"
      ]
     },
     "execution_count": 320,
     "metadata": {},
     "output_type": "execute_result"
    }
   ],
   "source": [
    "(b * z).shape"
   ]
  },
  {
   "cell_type": "code",
   "execution_count": 322,
   "metadata": {},
   "outputs": [
    {
     "data": {
      "text/plain": [
       "torch.Size([1, 5, 2])"
      ]
     },
     "execution_count": 322,
     "metadata": {},
     "output_type": "execute_result"
    }
   ],
   "source": [
    "(torch.matmul(M , h0) + b * z).shape"
   ]
  }
 ],
 "metadata": {
  "@webio": {
   "lastCommId": null,
   "lastKernelId": null
  },
  "kernelspec": {
   "display_name": "Python 3.5 (stlcg)",
   "language": "python",
   "name": "stlcg-env"
  },
  "language_info": {
   "codemirror_mode": {
    "name": "ipython",
    "version": 3
   },
   "file_extension": ".py",
   "mimetype": "text/x-python",
   "name": "python",
   "nbconvert_exporter": "python",
   "pygments_lexer": "ipython3",
   "version": "3.5.2"
  }
 },
 "nbformat": 4,
 "nbformat_minor": 4
}
